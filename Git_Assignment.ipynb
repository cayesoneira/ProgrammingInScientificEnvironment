{
 "cells": [
  {
   "cell_type": "markdown",
   "id": "2627e020-b016-4473-ac9e-820be0504481",
   "metadata": {
    "tags": []
   },
   "source": [
    "# Final assignment:\n",
    "1. Fork https://github.com/yoselita/lyrics and clone it to your local machine.\n",
    "2. Enter the folder named lyrics that will be locally created after cloning the remote repository.\n",
    "3. In the lyrics folder create a new folder and name it after your Firstname_Lastname (for example Javier_Bardem).\n",
    "4. Copy lyrics_template.txt into your folder.\n",
    "5. Rename lyrics_template.txt after your favorite music band.\n",
    "6. Open the template file [your_favorite_band].txt and write the title of your favorite song from your favorite band.\n",
    "7. Stage and commit changes in your local repository.\n",
    "8. Create new branch named \"new_branch\" and move to the new branch.\n",
    "9. While being on the new_branch, open your [your_favorite_band].txt file again, and write the song lyrics after the title.\n",
    "10. Stage and commit the new changes.\n",
    "11. Go to the master branch, and merge  new_branch.\n",
    "13. Delete the branch named new_branch.\n",
    "14. Pull the changes from the forked remote repository.\n",
    "15. Check the available remotes.\n",
    "16. Push the changes made locally back to the remote repository forked to your account.\n",
    "17. Check if the new file is created online and provide the link to your forked repository. Use the text field in the Moodle Assignment.\n",
    "18. Create a pull request in your forked repository in order to merge https://github.com/[your_user]/lyrics to https://github.com/yoselita/lyrics.\n",
    "19. Report in the corresponding topic at Moodle Forum, if conflicts pop up. Don't send e-mails!!!!"
   ]
  },
  {
   "cell_type": "markdown",
   "id": "09a72b11-3879-4738-ba34-b4ecf86a2ec7",
   "metadata": {},
   "source": [
    "**Important**: be consistent with the working directory. In case there are files already, clean them:"
   ]
  },
  {
   "cell_type": "code",
   "execution_count": 1,
   "id": "a03dbd72-250e-49ab-8dbd-44859f466c8e",
   "metadata": {},
   "outputs": [],
   "source": [
    "cd /home/jovyan/Mounted/Programming/Git/introduction-to-git-main"
   ]
  },
  {
   "cell_type": "markdown",
   "id": "c9555676-f71f-4015-a439-eeda42257b92",
   "metadata": {},
   "source": [
    "## 1. Fork https://github.com/yoselita/lyrics and clone it to your local machine."
   ]
  },
  {
   "cell_type": "markdown",
   "id": "5a14cdab-69cc-4c47-9f7e-14bb0789f0ff",
   "metadata": {},
   "source": [
    "Follow the link, log in with a GitHub account and select *Fork* up in the right.\n",
    "\n",
    "Use the following sentence:"
   ]
  },
  {
   "cell_type": "code",
   "execution_count": 2,
   "id": "2f1e1d26-deb3-4a84-a801-3361aa43ccea",
   "metadata": {},
   "outputs": [
    {
     "name": "stdout",
     "output_type": "stream",
     "text": [
      "Cloning into 'lyrics'...\n",
      "remote: Enumerating objects: 112, done.        \n",
      "remote: Counting objects: 100% (8/8), done.        \n",
      "remote: Compressing objects: 100% (4/4), done.        \n",
      "remote: Total 112 (delta 1), reused 7 (delta 1), pack-reused 104        \n",
      "Receiving objects: 100% (112/112), 21.53 KiB | 380.00 KiB/s, done.\n",
      "Resolving deltas: 100% (10/10), done.\n"
     ]
    }
   ],
   "source": [
    "git clone https://github.com/cayesoneira/lyrics.git"
   ]
  },
  {
   "cell_type": "markdown",
   "id": "f15c49ae-6b6a-4358-821a-cdd82c701514",
   "metadata": {},
   "source": [
    "## 2. Enter the folder named lyrics that will be locally created after cloning the remote repository."
   ]
  },
  {
   "cell_type": "code",
   "execution_count": 3,
   "id": "7f0d4590-7779-4325-ad1b-6c0acb43e51b",
   "metadata": {},
   "outputs": [
    {
     "name": "stdout",
     "output_type": "stream",
     "text": [
      "Reinitialized existing Git repository in /home/jovyan/Mounted/Programming/Git/introduction-to-git-main/lyrics/.git/\n"
     ]
    }
   ],
   "source": [
    "cd lyrics\n",
    "git init"
   ]
  },
  {
   "cell_type": "code",
   "execution_count": 4,
   "id": "1ce731f1-c76b-42c5-a5c2-bbe4ed5ab765",
   "metadata": {},
   "outputs": [
    {
     "name": "stdout",
     "output_type": "stream",
     "text": [
      "Abram_Perez       Dario_Gonzalez  Javi_Badi    Pablo_Herreros\n",
      "Cayetano_Soneira  Diego_Alvarez   Luis_Mejia   README.md\n",
      "Conrado_Muñoz     .git            Miguel_Ruiz  Ruben_Lopez\n"
     ]
    }
   ],
   "source": [
    "ls -A"
   ]
  },
  {
   "cell_type": "markdown",
   "id": "9e694ed1-58e5-480e-8bbd-d5d20acd2841",
   "metadata": {},
   "source": [
    "## 3. In the lyrics folder create a new folder and name it after your Firstname_Lastname (for example Javier_Bardem)."
   ]
  },
  {
   "cell_type": "code",
   "execution_count": 5,
   "id": "decedeec-282b-40b5-9f08-22b1c5b1d8d6",
   "metadata": {},
   "outputs": [
    {
     "name": "stdout",
     "output_type": "stream",
     "text": [
      "mkdir: cannot create directory ‘Cayetano_Soneira’: File exists\n"
     ]
    },
    {
     "ename": "",
     "evalue": "1",
     "output_type": "error",
     "traceback": []
    }
   ],
   "source": [
    "mkdir Cayetano_Soneira"
   ]
  },
  {
   "cell_type": "markdown",
   "id": "6ebfe055-c78d-4404-ad9a-887c7fbcc371",
   "metadata": {},
   "source": [
    "## 4. Copy lyrics_template.txt into your folder."
   ]
  },
  {
   "cell_type": "code",
   "execution_count": 6,
   "id": "8ac0d6e6-0811-4436-a364-d3516ce15989",
   "metadata": {},
   "outputs": [],
   "source": [
    "# I don't see the file so I create one.\n",
    "touch lyrics_template.txt\n",
    "cp lyrics_template.txt Cayetano_Soneira/"
   ]
  },
  {
   "cell_type": "markdown",
   "id": "7174884d-a1ee-4f86-afb2-0d7a50c7980f",
   "metadata": {},
   "source": [
    "## 5. Rename lyrics_template.txt after your favorite music band."
   ]
  },
  {
   "cell_type": "code",
   "execution_count": 7,
   "id": "ecb33c6b-fcc7-47ea-8ad0-1f584876fc97",
   "metadata": {},
   "outputs": [],
   "source": [
    "mv Cayetano_Soneira/lyrics_template.txt Cayetano_Soneira/Radiohead.txt "
   ]
  },
  {
   "cell_type": "markdown",
   "id": "48fe3125-dd49-4163-9b77-8fd0e0adc964",
   "metadata": {},
   "source": [
    "## 6. Open the template file [your_favorite_band].txt and write the title of your favorite song from your favorite band."
   ]
  },
  {
   "cell_type": "code",
   "execution_count": 8,
   "id": "2018df51-a0cc-4d1f-ae30-c969bbf8e574",
   "metadata": {},
   "outputs": [],
   "source": [
    "echo Reckoner > Cayetano_Soneira/Radiohead.txt"
   ]
  },
  {
   "cell_type": "markdown",
   "id": "93af2889-fe0a-4653-a24e-1d7b3a3c5d60",
   "metadata": {},
   "source": [
    "## 7. Stage and commit changes in your local repository."
   ]
  },
  {
   "cell_type": "code",
   "execution_count": 9,
   "id": "315469e5-c7c8-4fbf-a022-1bd087b42b1f",
   "metadata": {},
   "outputs": [
    {
     "name": "stdout",
     "output_type": "stream",
     "text": [
      "On branch main\n",
      "Your branch is up to date with 'origin/main'.\n",
      "\n",
      "Changes to be committed:\n",
      "  (use \"git restore --staged <file>...\" to unstage)\n",
      "\tnew file:   Cayetano_Soneira/.ipynb_checkpoints/Radiohead-checkpoint.txt\n",
      "\tmodified:   Cayetano_Soneira/Radiohead.txt\n",
      "\n",
      "Untracked files:\n",
      "  (use \"git add <file>...\" to include in what will be committed)\n",
      "\tlyrics_template.txt\n",
      "\n"
     ]
    }
   ],
   "source": [
    "git add Cayetano_Soneira/\n",
    "git status"
   ]
  },
  {
   "cell_type": "code",
   "execution_count": 10,
   "id": "2634593f-ec5b-40a5-ab1d-1aec1a0e786d",
   "metadata": {},
   "outputs": [
    {
     "name": "stdout",
     "output_type": "stream",
     "text": [
      "core.repositoryformatversion=0\n",
      "core.filemode=true\n",
      "core.bare=false\n",
      "core.logallrefupdates=true\n",
      "core.editor=vim\n",
      "remote.origin.url=https://github.com/cayesoneira/lyrics.git\n",
      "remote.origin.fetch=+refs/heads/*:refs/remotes/origin/*\n",
      "branch.main.remote=origin\n",
      "branch.main.merge=refs/heads/main\n",
      "user.name=cayesoneira\n",
      "user.email=csl109@alumnos.unican.es\n"
     ]
    }
   ],
   "source": [
    "git config user.name \"cayesoneira\"\n",
    "git config user.email \"csl109@alumnos.unican.es\"\n",
    "git config core.editor \"vim\"\n",
    "\n",
    "git config --list"
   ]
  },
  {
   "cell_type": "code",
   "execution_count": 11,
   "id": "e8b43c8e-4b4b-4ad9-8e8b-76775acf83be",
   "metadata": {},
   "outputs": [
    {
     "name": "stdout",
     "output_type": "stream",
     "text": [
      "[main 90d94d7] Add Cayetano_Soneira directory\n",
      " 2 files changed, 2 insertions(+), 37 deletions(-)\n",
      " create mode 100644 Cayetano_Soneira/.ipynb_checkpoints/Radiohead-checkpoint.txt\n",
      " rewrite Cayetano_Soneira/Radiohead.txt (98%)\n"
     ]
    }
   ],
   "source": [
    "git commit -m 'Add Cayetano_Soneira directory'"
   ]
  },
  {
   "cell_type": "markdown",
   "id": "1cbcba5d-ce66-4d3e-ba57-0cd14af830b8",
   "metadata": {},
   "source": [
    "## 8. Create new branch named \"new_branch\" and move to the new branch."
   ]
  },
  {
   "cell_type": "code",
   "execution_count": 12,
   "id": "e134a9fd-fc1a-42c6-afb8-c5a206703ddf",
   "metadata": {},
   "outputs": [],
   "source": [
    "git branch new_branch"
   ]
  },
  {
   "cell_type": "code",
   "execution_count": 13,
   "id": "a8020763-f1bc-4397-8e0c-994b306954b6",
   "metadata": {},
   "outputs": [
    {
     "name": "stdout",
     "output_type": "stream",
     "text": [
      "Switched to branch 'new_branch'\n"
     ]
    }
   ],
   "source": [
    "git checkout new_branch"
   ]
  },
  {
   "cell_type": "code",
   "execution_count": 14,
   "id": "09fd847d-2a6f-48f7-98a2-00023938ac6f",
   "metadata": {},
   "outputs": [
    {
     "name": "stdout",
     "output_type": "stream",
     "text": [
      "  main\n",
      "* new_branch\n"
     ]
    }
   ],
   "source": [
    "git branch"
   ]
  },
  {
   "cell_type": "markdown",
   "id": "db33986b-b0ae-485c-b40e-a7a15f842477",
   "metadata": {},
   "source": [
    "## 9. While being on the new_branch, open your [your_favorite_band].txt file again, and write the song lyrics after the title."
   ]
  },
  {
   "cell_type": "code",
   "execution_count": 15,
   "id": "f0e0fe78-4a41-4ec3-8da8-f890f2cdca05",
   "metadata": {},
   "outputs": [],
   "source": [
    "echo -e \"Reckoner\\nYou can't take it with you\\nDancing for your pleasure\\nYou are not to blame for\\nBittersweet distractors\\nDare not speak its name\\nDedicated to all hu-\\nAll human beings\\nBecause we separate\\nLike ripples on a blank shore\\n(In rainbows)\\nBecause we separate\\nLike ripples on a blank shore\\n(In rainbows)\\nReckoner\\nTake me with you\\nDedicated to all hu-\\nAll human beings\" >> Cayetano_Soneira/Radiohead.txt"
   ]
  },
  {
   "cell_type": "code",
   "execution_count": 16,
   "id": "3b6769ec-68ec-4b78-876a-13a61a3af1b4",
   "metadata": {},
   "outputs": [
    {
     "name": "stdout",
     "output_type": "stream",
     "text": [
      "Reckoner\n",
      "Reckoner\n",
      "You can't take it with you\n",
      "Dancing for your pleasure\n",
      "You are not to blame for\n",
      "Bittersweet distractors\n",
      "Dare not speak its name\n",
      "Dedicated to all hu-\n",
      "All human beings\n",
      "Because we separate\n",
      "Like ripples on a blank shore\n",
      "(In rainbows)\n",
      "Because we separate\n",
      "Like ripples on a blank shore\n",
      "(In rainbows)\n",
      "Reckoner\n",
      "Take me with you\n",
      "Dedicated to all hu-\n",
      "All human beings\n"
     ]
    }
   ],
   "source": [
    "cat Cayetano_Soneira/Radiohead.txt"
   ]
  },
  {
   "cell_type": "markdown",
   "id": "ec29696f-9f0c-4876-9b29-5678af50b9f1",
   "metadata": {},
   "source": [
    "## 10. Stage and commit the new changes."
   ]
  },
  {
   "cell_type": "code",
   "execution_count": 17,
   "id": "0d6f0b31-2642-4a27-b6da-48ed7dd1143d",
   "metadata": {},
   "outputs": [
    {
     "name": "stdout",
     "output_type": "stream",
     "text": [
      "[new_branch 6424cd6] Add lyrics to the song\n",
      " 1 file changed, 18 insertions(+)\n"
     ]
    }
   ],
   "source": [
    "git add Cayetano_Soneira/Radiohead.txt\n",
    "git commit -m 'Add lyrics to the song'"
   ]
  },
  {
   "cell_type": "markdown",
   "id": "c01e821a-a90e-445e-8480-6e08e83fa982",
   "metadata": {},
   "source": [
    "## 11. Go to the master branch, and merge  new_branch."
   ]
  },
  {
   "cell_type": "code",
   "execution_count": 18,
   "id": "6e54f016-1c37-4fdc-803f-da5d8887ba08",
   "metadata": {},
   "outputs": [
    {
     "name": "stdout",
     "output_type": "stream",
     "text": [
      "Switched to branch 'main'\n",
      "Your branch is ahead of 'origin/main' by 1 commit.\n",
      "  (use \"git push\" to publish your local commits)\n"
     ]
    }
   ],
   "source": [
    "git checkout main"
   ]
  },
  {
   "cell_type": "code",
   "execution_count": 19,
   "id": "58407c7f-f26b-4640-816b-2517e0639357",
   "metadata": {},
   "outputs": [
    {
     "name": "stdout",
     "output_type": "stream",
     "text": [
      "Updating 90d94d7..6424cd6\n",
      "Fast-forward\n",
      " Cayetano_Soneira/Radiohead.txt | 18 ++++++++++++++++++\n",
      " 1 file changed, 18 insertions(+)\n"
     ]
    }
   ],
   "source": [
    "git merge --no-edit new_branch"
   ]
  },
  {
   "cell_type": "markdown",
   "id": "8169179a-fbe3-45b7-bfd8-585e52b33339",
   "metadata": {},
   "source": [
    "## 13. Delete the branch named new_branch."
   ]
  },
  {
   "cell_type": "code",
   "execution_count": 20,
   "id": "1071e678-6484-4202-98aa-527f45b816c9",
   "metadata": {},
   "outputs": [
    {
     "name": "stdout",
     "output_type": "stream",
     "text": [
      "Deleted branch new_branch (was 6424cd6).\n",
      "* main\n"
     ]
    }
   ],
   "source": [
    "git branch -d new_branch\n",
    "git branch"
   ]
  },
  {
   "cell_type": "markdown",
   "id": "f2abc540-6480-4670-a035-a7af04f665bb",
   "metadata": {},
   "source": [
    "## 14. Pull the changes from the forked remote repository."
   ]
  },
  {
   "cell_type": "markdown",
   "id": "dda369ec-cf43-4ba2-a98e-4c1c11934fda",
   "metadata": {},
   "source": [
    "### SSH Authorization Key Setup"
   ]
  },
  {
   "cell_type": "markdown",
   "id": "4849d198-03c2-47cb-bc40-b77c9454358b",
   "metadata": {},
   "source": [
    "There are several ways to access a repository in GitHub:*https* protocol, *SSH* and *GitHub CLI* (needs installation). We are going to use the *SSH*. To do that, in a few words, we need to create and download a key that our computer will keep. Then we go to our GitHub account and set what key a PC would need to edit our repositories. Once this is done, we can *pull* in our account directly from terminal."
   ]
  },
  {
   "cell_type": "markdown",
   "id": "a17885a4-0e39-4789-bd03-cbdabf8e1a19",
   "metadata": {},
   "source": [
    "**The tutorial is as follows:**\n",
    "- Check if SSH is set on your machine:\n",
    "        \n",
    "        ls -al ~/.ssh\n",
    "        \n",
    "- If empty:\n",
    "\n",
    "        ssh-keygen -t rsa -b 4096 -C your_email@example.com\n",
    "        \n",
    "- Follow the instructions, and for each prompt press enter (and write nothing)\n",
    "- Check again if SSH is set:\n",
    "\n",
    "        ls -al ~/.ssh\n",
    "        \n",
    "- 2 files should be listed: \n",
    "        \n",
    "        id_rsa\n",
    "        id_rsa.pub\n",
    "        \n",
    "- Access `id_rsa.pub` in `home/<user>/.ssh` with `cat` and copy the long key: it begins with sha(...) and ends with a mail address.\n",
    "- Now go to your GitHub account\n",
    "- Click on your profile icon in the top right corner to get the drop-down menu. \n",
    "- Click “Settings,” then on the settings page, click “SSH and GPG keys,” on the left side “Account settings” menu. \n",
    "- Click the “New SSH key” button on the right side. \n",
    "- Add some recognizable title, paste your SSH key into the field, and click the “Add SSH key” to complete the setup.\n",
    "- All set. Check your authentication from the command line:\n",
    "\n",
    "        ssh -T git@github.com\n",
    "        \n",
    "- You will receive a confirmation message. You can continue with the creation of the remote."
   ]
  },
  {
   "cell_type": "code",
   "execution_count": 21,
   "id": "42722906-05da-41ab-837c-2c16bf3a0b7d",
   "metadata": {},
   "outputs": [
    {
     "name": "stdout",
     "output_type": "stream",
     "text": [
      "From github.com:cayesoneira/lyrics\n",
      " * branch            main       -> FETCH_HEAD\n",
      "Already up to date.\n"
     ]
    }
   ],
   "source": [
    "git remote set-url origin git@github.com:cayesoneira/lyrics.git\n",
    "git pull git@github.com:cayesoneira/lyrics.git main"
   ]
  },
  {
   "cell_type": "markdown",
   "id": "66de072b-aad6-4200-a901-c0f4a71b3d92",
   "metadata": {},
   "source": [
    "## 15. Check the available remotes."
   ]
  },
  {
   "cell_type": "code",
   "execution_count": 22,
   "id": "fa3a094a-deb5-4f7c-88f3-dab6a9cc3546",
   "metadata": {},
   "outputs": [
    {
     "name": "stdout",
     "output_type": "stream",
     "text": [
      "origin\tgit@github.com:cayesoneira/lyrics.git (fetch)\n",
      "origin\tgit@github.com:cayesoneira/lyrics.git (push)\n"
     ]
    }
   ],
   "source": [
    "git remote -v"
   ]
  },
  {
   "cell_type": "markdown",
   "id": "ed4ecce4-2d6e-4064-aab5-c92c6479c4b5",
   "metadata": {},
   "source": [
    "## 16. Push the changes made locally back to the remote repository forked to your account."
   ]
  },
  {
   "cell_type": "code",
   "execution_count": 23,
   "id": "ae5ed7d5-aa3d-4c4c-b340-6f0acac9e2da",
   "metadata": {},
   "outputs": [
    {
     "name": "stdout",
     "output_type": "stream",
     "text": [
      "From github.com:cayesoneira/lyrics\n",
      " * branch            main       -> FETCH_HEAD\n",
      "Already up to date.\n"
     ]
    }
   ],
   "source": [
    "git pull git@github.com:cayesoneira/lyrics.git main"
   ]
  },
  {
   "cell_type": "markdown",
   "id": "dd5ed134-c13b-44ef-b282-09c9026b105d",
   "metadata": {},
   "source": [
    "## 17. Check if the new file is created online and provide the link to your forked repository. Use the text field in the Moodle Assignment."
   ]
  },
  {
   "cell_type": "markdown",
   "id": "1507047f-a377-46fc-bb37-1474f9ee2f1d",
   "metadata": {},
   "source": [
    "It is pulled as we wanted: https://github.com/cayesoneira/lyrics"
   ]
  },
  {
   "cell_type": "markdown",
   "id": "4c75d4ce-f42c-4b62-863e-420952cf2024",
   "metadata": {},
   "source": [
    "## 18. Create a pull request in your forked repository in order to merge https://github.com/cayesoneira/lyrics to https://github.com/yoselita/lyrics."
   ]
  },
  {
   "cell_type": "markdown",
   "id": "b1fdf034-5543-41f4-8fae-a63a24096d9b",
   "metadata": {},
   "source": [
    " **Pull request** workflow:\n",
    " 1. Login to GitHub\n",
    " 2. Go to your forked repository\n",
    " 3. By pressing the tab \"pull request\" you will intialize your pull request to the base repository branch\n",
    " 4. Compare your branch with the branch to which you want to send the pull request\n",
    " 5. Initialize the pull request by writing a descritive message\n",
    " 6. Checking if the branch has any conflicts with the base branch. If not, your pull request will be sent.\n",
    " \n",
    "Before final merging to the base repositry branch, the owner need to revise it and decide to accept or refuse merging. \n",
    " 1. The owner sees that there is a pull request and needs to be revised.\n",
    " 2. If no conflicts and the owner decides to accept the request, the pulled changes can be merged with no problem by pressing \"merge pull request\" \n",
    " 3. If merge, the changes are then visible in upstream repository.      "
   ]
  }
 ],
 "metadata": {
  "kernelspec": {
   "display_name": "Bash",
   "language": "bash",
   "name": "bash"
  },
  "language_info": {
   "codemirror_mode": "shell",
   "file_extension": ".sh",
   "mimetype": "text/x-sh",
   "name": "bash"
  }
 },
 "nbformat": 4,
 "nbformat_minor": 5
}
